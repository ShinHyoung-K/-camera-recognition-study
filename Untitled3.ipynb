{
 "cells": [
  {
   "cell_type": "code",
   "execution_count": 8,
   "id": "cbc1daed",
   "metadata": {},
   "outputs": [],
   "source": [
    "import playsound\n",
    "playsound.playsound('코카콜라 (mp3cut.net).mp3')"
   ]
  },
  {
   "cell_type": "code",
   "execution_count": null,
   "id": "ec1fa91a",
   "metadata": {},
   "outputs": [],
   "source": []
  },
  {
   "cell_type": "code",
   "execution_count": null,
   "id": "aa5e245c",
   "metadata": {},
   "outputs": [],
   "source": []
  }
 ],
 "metadata": {
  "kernelspec": {
   "display_name": "Python 3 (ipykernel)",
   "language": "python",
   "name": "python3"
  },
  "language_info": {
   "codemirror_mode": {
    "name": "ipython",
    "version": 3
   },
   "file_extension": ".py",
   "mimetype": "text/x-python",
   "name": "python",
   "nbconvert_exporter": "python",
   "pygments_lexer": "ipython3",
   "version": "3.9.12"
  }
 },
 "nbformat": 4,
 "nbformat_minor": 5
}
